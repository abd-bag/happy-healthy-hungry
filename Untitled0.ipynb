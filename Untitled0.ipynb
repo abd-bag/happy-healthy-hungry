{
 "metadata": {
  "name": ""
 },
 "nbformat": 3,
 "nbformat_minor": 0,
 "worksheets": [
  {
   "cells": [
    {
     "cell_type": "code",
     "collapsed": false,
     "input": [
      "input  = ['cat', 'star', 'god', 'bat', 'dog', 'rats', 'tsar']\n",
      "\n",
      "output = ['star', 'god', 'dog', 'rats' , 'tsar']\n",
      "\n",
      "output=[]\n",
      "\n",
      "def wordcheck(placeholder,placeholder2): \n",
      "        for l in range(len(placeholder)-1):\n",
      "                if placeholder[l]!=placeholder2[2]:\n",
      "                    return \"not anagram\" \n",
      "                else:\n",
      "                    break\n",
      "                    \n",
      "        return \"anagram\"\n",
      "                \n",
      "\n",
      "\n",
      "for i in input:\n",
      "    placeholder=i.split(\"\")\n",
      "    placeholder.sort()\n",
      "    \n",
      "    for j in input:\n",
      "        placeholder2=j.split(\"\")\n",
      "        placeholder.sort()\n",
      "        if j !=i:\n",
      "            if len(placeholder) !=len(placeholder2):\n",
      "                break\n",
      "            else:\n",
      "               if wordcheck(placeholder,placeholder2)==\"anagram\":\n",
      "               \n",
      "               output.append(i)"
     ],
     "language": "python",
     "metadata": {},
     "outputs": [
      {
       "ename": "IndentationError",
       "evalue": "expected an indented block (<ipython-input-9-94ab0f56fae7>, line 31)",
       "output_type": "pyerr",
       "traceback": [
        "\u001b[0;36m  File \u001b[0;32m\"<ipython-input-9-94ab0f56fae7>\"\u001b[0;36m, line \u001b[0;32m31\u001b[0m\n\u001b[0;31m    output.append(i)\u001b[0m\n\u001b[0m         ^\u001b[0m\n\u001b[0;31mIndentationError\u001b[0m\u001b[0;31m:\u001b[0m expected an indented block\n"
       ]
      }
     ],
     "prompt_number": 9
    }
   ],
   "metadata": {}
  }
 ]
}